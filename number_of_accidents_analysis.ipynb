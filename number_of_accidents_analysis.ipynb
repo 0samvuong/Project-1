{
 "cells": [
  {
   "cell_type": "code",
   "execution_count": 1,
   "metadata": {},
   "outputs": [],
   "source": [
    "import numpy as np\n",
    "import pandas as pd\n",
    "import matplotlib.pyplot as plt\n",
    "from datetime import datetime\n",
    "import csv"
   ]
  },
  {
   "cell_type": "code",
   "execution_count": 2,
   "metadata": {},
   "outputs": [],
   "source": [
    "#CSV file paths\n",
    "\n",
    "accident_path = \"project_data/accident_df.csv\"\n",
    "main_csv_path = \"project_data/proj_accident_main.csv\"\n",
    "\n",
    "\n",
    "#creating dataframes \n",
    "main_df = pd.read_csv(main_csv_path)\n",
    "accident_df = pd.read_csv(accident_path)\n",
    "\n",
    "\n",
    "#remove first column\n",
    "main_df = main_df.drop(main_df.columns[0], axis=1)\n",
    "accident_df = accident_df.drop(accident_df.columns[0], axis=1)\n",
    "\n",
    "\n"
   ]
  },
  {
   "cell_type": "code",
   "execution_count": 105,
   "metadata": {},
   "outputs": [],
   "source": [
    "main_accident_df = accident_df[accident_df[\"ACCIDENT_NO\"].isin(main_df[\"ACCIDENT_NO\"])]\n",
    "\n",
    "#converting accidentdate column to datetime format, for easier search\n",
    "main_df[\"ACCIDENTDATE\"] = pd.to_datetime(main_df[\"ACCIDENTDATE\"])\n",
    "main_accident_df[\"ACCIDENTDATE\"] = pd.to_datetime(main_accident_df[\"ACCIDENTDATE\"])\n",
    "#main_df[\"Year\"] = main_df[\"ACCIDENTDATE\"].dt.year\n",
    "\n",
    "#creating dataframes for each year's accidents\n",
    "main_2016_df = main_df[main_df[\"ACCIDENTDATE\"].dt.year == 2016]\n",
    "main_2017_df = main_df[main_df[\"ACCIDENTDATE\"].dt.year == 2017]\n",
    "main_2018_df = main_df[main_df[\"ACCIDENTDATE\"].dt.year == 2018]\n",
    "main_2019_df = main_df[main_df[\"ACCIDENTDATE\"].dt.year == 2019]\n",
    "main_2020_df = main_df[main_df[\"ACCIDENTDATE\"].dt.year == 2020]\n",
    "\n",
    "\n",
    "# accident  dataframes based on year\n",
    "accident_2016_df = accident_df[accident_df[\"ACCIDENT_NO\"].isin(main_2016_df[\"ACCIDENT_NO\"])]\n",
    "accident_2017_df = accident_df[accident_df[\"ACCIDENT_NO\"].isin(main_2017_df[\"ACCIDENT_NO\"])]\n",
    "accident_2018_df = accident_df[accident_df[\"ACCIDENT_NO\"].isin(main_2018_df[\"ACCIDENT_NO\"])]\n",
    "accident_2019_df = accident_df[accident_df[\"ACCIDENT_NO\"].isin(main_2019_df[\"ACCIDENT_NO\"])]\n",
    "accident_2020_df = accident_df[accident_df[\"ACCIDENT_NO\"].isin(main_2020_df[\"ACCIDENT_NO\"])]\n",
    "\n",
    "\n",
    "\n"
   ]
  },
  {
   "cell_type": "markdown",
   "metadata": {},
   "source": [
    "# selecting the relevant columns\n"
   ]
  },
  {
   "cell_type": "code",
   "execution_count": 106,
   "metadata": {},
   "outputs": [],
   "source": [
    "\n",
    "accident_2016_df = accident_2016_df[[\"ACCIDENT_NO\",\"ACCIDENTDATE\",\"NO_PERSONS\"]]\n",
    "accident_2017_df = accident_2017_df[[\"ACCIDENT_NO\",\"ACCIDENTDATE\",\"NO_PERSONS\"]]\n",
    "accident_2018_df = accident_2018_df[[\"ACCIDENT_NO\",\"ACCIDENTDATE\",\"NO_PERSONS\"]]\n",
    "accident_2019_df = accident_2019_df[[\"ACCIDENT_NO\",\"ACCIDENTDATE\",\"NO_PERSONS\"]]\n",
    "accident_2020_df = accident_2020_df[[\"ACCIDENT_NO\",\"ACCIDENTDATE\",\"NO_PERSONS\"]]\n",
    "\n",
    "main_accident_df = main_accident_df[[\"ACCIDENT_NO\",\"ACCIDENTDATE\",\"NO_PERSONS\",\"NO_PERSONS_KILLED\"]]\n"
   ]
  },
  {
   "cell_type": "code",
   "execution_count": 107,
   "metadata": {},
   "outputs": [
    {
     "data": {
      "text/html": [
       "<div>\n",
       "<style scoped>\n",
       "    .dataframe tbody tr th:only-of-type {\n",
       "        vertical-align: middle;\n",
       "    }\n",
       "\n",
       "    .dataframe tbody tr th {\n",
       "        vertical-align: top;\n",
       "    }\n",
       "\n",
       "    .dataframe thead th {\n",
       "        text-align: right;\n",
       "    }\n",
       "</style>\n",
       "<table border=\"1\" class=\"dataframe\">\n",
       "  <thead>\n",
       "    <tr style=\"text-align: right;\">\n",
       "      <th></th>\n",
       "      <th>ACCIDENT_NO</th>\n",
       "      <th>ACCIDENTDATE</th>\n",
       "      <th>NO_PERSONS</th>\n",
       "      <th>NO_PERSONS_KILLED</th>\n",
       "    </tr>\n",
       "  </thead>\n",
       "  <tbody>\n",
       "    <tr>\n",
       "      <th>0</th>\n",
       "      <td>T20160000013</td>\n",
       "      <td>2016-01-01</td>\n",
       "      <td>2</td>\n",
       "      <td>0</td>\n",
       "    </tr>\n",
       "    <tr>\n",
       "      <th>1</th>\n",
       "      <td>T20160000015</td>\n",
       "      <td>2016-01-01</td>\n",
       "      <td>1</td>\n",
       "      <td>0</td>\n",
       "    </tr>\n",
       "    <tr>\n",
       "      <th>2</th>\n",
       "      <td>T20160000019</td>\n",
       "      <td>2016-01-01</td>\n",
       "      <td>1</td>\n",
       "      <td>0</td>\n",
       "    </tr>\n",
       "    <tr>\n",
       "      <th>3</th>\n",
       "      <td>T20160000028</td>\n",
       "      <td>2016-01-01</td>\n",
       "      <td>2</td>\n",
       "      <td>0</td>\n",
       "    </tr>\n",
       "    <tr>\n",
       "      <th>4</th>\n",
       "      <td>T20160000031</td>\n",
       "      <td>2016-01-01</td>\n",
       "      <td>2</td>\n",
       "      <td>0</td>\n",
       "    </tr>\n",
       "    <tr>\n",
       "      <th>...</th>\n",
       "      <td>...</td>\n",
       "      <td>...</td>\n",
       "      <td>...</td>\n",
       "      <td>...</td>\n",
       "    </tr>\n",
       "    <tr>\n",
       "      <th>62261</th>\n",
       "      <td>T20200019239</td>\n",
       "      <td>2020-11-01</td>\n",
       "      <td>4</td>\n",
       "      <td>0</td>\n",
       "    </tr>\n",
       "    <tr>\n",
       "      <th>62262</th>\n",
       "      <td>T20200019247</td>\n",
       "      <td>2020-11-01</td>\n",
       "      <td>2</td>\n",
       "      <td>0</td>\n",
       "    </tr>\n",
       "    <tr>\n",
       "      <th>62263</th>\n",
       "      <td>T20200019250</td>\n",
       "      <td>2020-11-01</td>\n",
       "      <td>2</td>\n",
       "      <td>0</td>\n",
       "    </tr>\n",
       "    <tr>\n",
       "      <th>62264</th>\n",
       "      <td>T20200019253</td>\n",
       "      <td>2020-11-01</td>\n",
       "      <td>1</td>\n",
       "      <td>0</td>\n",
       "    </tr>\n",
       "    <tr>\n",
       "      <th>62265</th>\n",
       "      <td>T20200019417</td>\n",
       "      <td>2020-11-04</td>\n",
       "      <td>1</td>\n",
       "      <td>0</td>\n",
       "    </tr>\n",
       "  </tbody>\n",
       "</table>\n",
       "<p>62266 rows × 4 columns</p>\n",
       "</div>"
      ],
      "text/plain": [
       "        ACCIDENT_NO ACCIDENTDATE  NO_PERSONS  NO_PERSONS_KILLED\n",
       "0      T20160000013   2016-01-01           2                  0\n",
       "1      T20160000015   2016-01-01           1                  0\n",
       "2      T20160000019   2016-01-01           1                  0\n",
       "3      T20160000028   2016-01-01           2                  0\n",
       "4      T20160000031   2016-01-01           2                  0\n",
       "...             ...          ...         ...                ...\n",
       "62261  T20200019239   2020-11-01           4                  0\n",
       "62262  T20200019247   2020-11-01           2                  0\n",
       "62263  T20200019250   2020-11-01           2                  0\n",
       "62264  T20200019253   2020-11-01           1                  0\n",
       "62265  T20200019417   2020-11-04           1                  0\n",
       "\n",
       "[62266 rows x 4 columns]"
      ]
     },
     "execution_count": 107,
     "metadata": {},
     "output_type": "execute_result"
    }
   ],
   "source": [
    "main_accident_df"
   ]
  },
  {
   "cell_type": "markdown",
   "metadata": {},
   "source": [
    "# number of accidents per year\n",
    "2016-2019"
   ]
  },
  {
   "cell_type": "code",
   "execution_count": 128,
   "metadata": {},
   "outputs": [
    {
     "data": {
      "text/html": [
       "<div>\n",
       "<style scoped>\n",
       "    .dataframe tbody tr th:only-of-type {\n",
       "        vertical-align: middle;\n",
       "    }\n",
       "\n",
       "    .dataframe tbody tr th {\n",
       "        vertical-align: top;\n",
       "    }\n",
       "\n",
       "    .dataframe thead th {\n",
       "        text-align: right;\n",
       "    }\n",
       "</style>\n",
       "<table border=\"1\" class=\"dataframe\">\n",
       "  <thead>\n",
       "    <tr style=\"text-align: right;\">\n",
       "      <th></th>\n",
       "      <th>Number_of_accidents</th>\n",
       "      <th>Persons</th>\n",
       "      <th>Deaths</th>\n",
       "      <th>mean_people_injured</th>\n",
       "      <th>mean_people_death</th>\n",
       "    </tr>\n",
       "    <tr>\n",
       "      <th>ACCIDENTDATE</th>\n",
       "      <th></th>\n",
       "      <th></th>\n",
       "      <th></th>\n",
       "      <th></th>\n",
       "      <th></th>\n",
       "    </tr>\n",
       "  </thead>\n",
       "  <tbody>\n",
       "    <tr>\n",
       "      <th>2016</th>\n",
       "      <td>15852</td>\n",
       "      <td>37629</td>\n",
       "      <td>290</td>\n",
       "      <td>2.373770</td>\n",
       "      <td>0.018294</td>\n",
       "    </tr>\n",
       "    <tr>\n",
       "      <th>2017</th>\n",
       "      <td>13393</td>\n",
       "      <td>32329</td>\n",
       "      <td>259</td>\n",
       "      <td>2.413873</td>\n",
       "      <td>0.019338</td>\n",
       "    </tr>\n",
       "    <tr>\n",
       "      <th>2018</th>\n",
       "      <td>12797</td>\n",
       "      <td>30810</td>\n",
       "      <td>211</td>\n",
       "      <td>2.407596</td>\n",
       "      <td>0.016488</td>\n",
       "    </tr>\n",
       "    <tr>\n",
       "      <th>2019</th>\n",
       "      <td>14164</td>\n",
       "      <td>34056</td>\n",
       "      <td>263</td>\n",
       "      <td>2.404406</td>\n",
       "      <td>0.018568</td>\n",
       "    </tr>\n",
       "    <tr>\n",
       "      <th>2020</th>\n",
       "      <td>6060</td>\n",
       "      <td>13589</td>\n",
       "      <td>150</td>\n",
       "      <td>2.242409</td>\n",
       "      <td>0.024752</td>\n",
       "    </tr>\n",
       "  </tbody>\n",
       "</table>\n",
       "</div>"
      ],
      "text/plain": [
       "              Number_of_accidents  Persons  Deaths  mean_people_injured  \\\n",
       "ACCIDENTDATE                                                              \n",
       "2016                        15852    37629     290             2.373770   \n",
       "2017                        13393    32329     259             2.413873   \n",
       "2018                        12797    30810     211             2.407596   \n",
       "2019                        14164    34056     263             2.404406   \n",
       "2020                         6060    13589     150             2.242409   \n",
       "\n",
       "              mean_people_death  \n",
       "ACCIDENTDATE                     \n",
       "2016                   0.018294  \n",
       "2017                   0.019338  \n",
       "2018                   0.016488  \n",
       "2019                   0.018568  \n",
       "2020                   0.024752  "
      ]
     },
     "execution_count": 128,
     "metadata": {},
     "output_type": "execute_result"
    }
   ],
   "source": [
    "#creating summary table\n",
    "\n",
    "sum_df_years = pd.DataFrame()\n",
    "sum_df_years[\"Number_of_accidents\"] = main_accident_df.groupby(main_accident_df[\"ACCIDENTDATE\"].dt.year, as_index=True)[\"ACCIDENT_NO\"].count()\n",
    "#sum_df_years = sum_df_years.drop(sum_df_years.index[-1]) #drop last row (2020)\n",
    "#sum_df_years[\"Number_of_accidents\"][2016]\n",
    "sum_df_years[\"Persons\"] = main_accident_df.groupby(main_accident_df[\"ACCIDENTDATE\"].dt.year, as_index=True)[\"NO_PERSONS\"].sum()\n",
    "sum_df_years[\"Deaths\"] = main_accident_df.groupby(main_accident_df[\"ACCIDENTDATE\"].dt.year, as_index=True)[\"NO_PERSONS_KILLED\"].sum()\n",
    "\n",
    "sum_df_years[\"mean_people_injured\"] = main_accident_df.groupby(main_accident_df[\"ACCIDENTDATE\"].dt.year, as_index=True)[\"NO_PERSONS\"].mean()\n",
    "\n",
    "sum_df_years[\"mean_people_death\"] = main_accident_df.groupby(main_accident_df[\"ACCIDENTDATE\"].dt.year, as_index=True)[\"NO_PERSONS_KILLED\"].mean()\n",
    "\n",
    "sum_df_years\n"
   ]
  },
  {
   "cell_type": "markdown",
   "metadata": {},
   "source": [
    "# number of accidents per year\n"
   ]
  },
  {
   "cell_type": "code",
   "execution_count": 138,
   "metadata": {},
   "outputs": [
    {
     "data": {
      "text/plain": [
       "(0.0, 17000.0)"
      ]
     },
     "execution_count": 138,
     "metadata": {},
     "output_type": "execute_result"
    },
    {
     "data": {
      "image/png": "[encoded data removed]",
      "text/plain": [
       "<Figure size 432x288 with 1 Axes>"
      ]
     },
     "metadata": {
      "needs_background": "light"
     },
     "output_type": "display_data"
    }
   ],
   "source": [
    "sum_df_years[\"Number_of_accidents\"].plot(kind=\"bar\")\n",
    "plt.xticks(rotation=0, horizontalalignment=\"center\")\n",
    "plt.title(\"Number of Accidents per year (2016-2020)\")\n",
    "plt.xlabel(\"Year\")\n",
    "plt.ylabel(\"Number of Accidents\")\n",
    "plt.ylim(0,17000)"
   ]
  },
  {
   "cell_type": "markdown",
   "metadata": {},
   "source": [
    "# people injured \n",
    "# people killed\n"
   ]
  },
  {
   "cell_type": "code",
   "execution_count": null,
   "metadata": {},
   "outputs": [],
   "source": []
  },
  {
   "cell_type": "code",
   "execution_count": 137,
   "metadata": {},
   "outputs": [
    {
     "data": {
      "text/plain": [
       "Text(0, 0.5, 'Number of people KILLED')"
      ]
     },
     "execution_count": 137,
     "metadata": {},
     "output_type": "execute_result"
    },
    {
     "data": {
      "image/png": "[encoded data removed]",
      "text/plain": [
       "<Figure size 432x288 with 1 Axes>"
      ]
     },
     "metadata": {
      "needs_background": "light"
     },
     "output_type": "display_data"
    }
   ],
   "source": [
    "sum_df_years[\"Deaths\"].plot(kind=\"bar\")\n",
    "plt.xticks(rotation=0, horizontalalignment=\"center\")\n",
    "plt.title(\"Number of people KILLED per year (2016-2020)\")\n",
    "plt.xlabel(\"Year\")\n",
    "plt.ylabel(\"Number of people KILLED\")"
   ]
  },
  {
   "cell_type": "code",
   "execution_count": 136,
   "metadata": {},
   "outputs": [
    {
     "data": {
      "text/plain": [
       "Text(0, 0.5, 'Number of people injured')"
      ]
     },
     "execution_count": 136,
     "metadata": {},
     "output_type": "execute_result"
    },
    {
     "data": {
      "image/png": "[encoded data removed]",
      "text/plain": [
       "<Figure size 432x288 with 1 Axes>"
      ]
     },
     "metadata": {
      "needs_background": "light"
     },
     "output_type": "display_data"
    }
   ],
   "source": [
    "sum_df_years[\"Persons\"].plot(kind=\"bar\")\n",
    "plt.xticks(rotation=0, horizontalalignment=\"center\")\n",
    "plt.title(\"Number of people injured per year (2016-2020)\")\n",
    "plt.xlabel(\"Year\")\n",
    "plt.ylabel(\"Number of people injured\")"
   ]
  },
  {
   "cell_type": "markdown",
   "metadata": {},
   "source": [
    "# for every accident, how many people are injured"
   ]
  },
  {
   "cell_type": "code",
   "execution_count": 142,
   "metadata": {},
   "outputs": [
    {
     "data": {
      "text/plain": [
       "(2.0, 2.5)"
      ]
     },
     "execution_count": 142,
     "metadata": {},
     "output_type": "execute_result"
    },
    {
     "data": {
      "image/png": "[encoded data removed]",
      "text/plain": [
       "<Figure size 432x288 with 1 Axes>"
      ]
     },
     "metadata": {
      "needs_background": "light"
     },
     "output_type": "display_data"
    }
   ],
   "source": [
    "sum_df_years[\"mean_people_injured\"].plot(kind=\"bar\")\n",
    "plt.xticks(rotation=0, horizontalalignment=\"center\")\n",
    "plt.title(\"Number of people injured per year (2016-2020)\")\n",
    "plt.xlabel(\"Year\")\n",
    "plt.ylabel(\"Number of people injured\")\n",
    "plt.ylim(2,2.5)"
   ]
  },
  {
   "cell_type": "markdown",
   "metadata": {},
   "source": [
    "# for every accident, how many people die?\n",
    "\n"
   ]
  },
  {
   "cell_type": "code",
   "execution_count": 145,
   "metadata": {},
   "outputs": [
    {
     "data": {
      "text/plain": [
       "Text(0, 0.5, 'Number of people injured')"
      ]
     },
     "execution_count": 145,
     "metadata": {},
     "output_type": "execute_result"
    },
    {
     "data": {
      "image/png": "[encoded data removed]",
      "text/plain": [
       "<Figure size 432x288 with 1 Axes>"
      ]
     },
     "metadata": {
      "needs_background": "light"
     },
     "output_type": "display_data"
    }
   ],
   "source": [
    "sum_df_years[\"mean_people_death\"].plot(kind=\"bar\")\n",
    "plt.xticks(rotation=0, horizontalalignment=\"center\")\n",
    "plt.title(\"Number of people injured per year (2016-2020)\")\n",
    "plt.xlabel(\"Year\")\n",
    "plt.ylabel(\"Number of people injured\")\n"
   ]
  },
  {
   "cell_type": "code",
   "execution_count": 151,
   "metadata": {},
   "outputs": [
    {
     "data": {
      "text/plain": [
       "(0.0, 2000.0)"
      ]
     },
     "execution_count": 151,
     "metadata": {},
     "output_type": "execute_result"
    },
    {
     "data": {
      "image/png": "[encoded data removed]",
      "text/plain": [
       "<Figure size 432x288 with 1 Axes>"
      ]
     },
     "metadata": {
      "needs_background": "light"
     },
     "output_type": "display_data"
    }
   ],
   "source": [
    "#months \n",
    "\n",
    "\n",
    "sum_df_months = pd.DataFrame()\n",
    "sum_df_months[\"Number_of_accidents\"] = main_accident_df.groupby([main_accident_df[\"ACCIDENTDATE\"].dt.year,main_accident_df[\"ACCIDENTDATE\"].dt.month], as_index=True)[\"ACCIDENT_NO\"].count()\n",
    "#sum_df_years = sum_df_years.drop(sum_df_years.index[-1]) #drop last row (2020)\n",
    "\n",
    "\n",
    "sum_df_months\n",
    "\n",
    "\n",
    "sum_df_months[\"Number_of_accidents\"][2016].plot(kind=\"bar\")\n",
    "plt.xticks(rotation=0, horizontalalignment=\"center\")\n",
    "plt.title(\"Number of Accidents per year (2016-2020)\")\n",
    "plt.xlabel(\"Year\")\n",
    "plt.ylabel(\"Number of Accidents\")\n",
    "plt.ylim(0,2000)"
   ]
  }
 ],
 "metadata": {
  "kernelspec": {
   "display_name": "Python 3.7.13 ('bootcamp')",
   "language": "python",
   "name": "python3"
  },
  "language_info": {
   "codemirror_mode": {
    "name": "ipython",
    "version": 3
   },
   "file_extension": ".py",
   "mimetype": "text/x-python",
   "name": "python",
   "nbconvert_exporter": "python",
   "pygments_lexer": "ipython3",
   "version": "3.7.13"
  },
  "orig_nbformat": 4,
  "vscode": {
   "interpreter": {
    "hash": "d3c3aa688ac86767ca0cc64da043c6600fa26f66b77c36d09bb4bee152a721f9"
   }
  }
 },
 "nbformat": 4,
 "nbformat_minor": 2
}
