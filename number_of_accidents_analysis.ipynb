{
 "cells": [
  {
   "cell_type": "code",
   "execution_count": 1,
   "metadata": {},
   "outputs": [],
   "source": [
    "import numpy as np\n",
    "import pandas as pd\n",
    "import matplotlib.pyplot as plt\n",
    "from datetime import datetime\n",
    "import csv\n"
   ]
  },
  {
   "cell_type": "code",
   "execution_count": 2,
   "metadata": {},
   "outputs": [],
   "source": [
    "#CSV file paths\n",
    "\n",
    "accident_path = \"project_data/accident_df.csv\"\n",
    "main_csv_path = \"project_data/proj_accident_main.csv\"\n",
    "\n",
    "\n",
    "#creating dataframes \n",
    "main_df = pd.read_csv(main_csv_path)\n",
    "accident_df = pd.read_csv(accident_path)\n",
    "\n",
    "\n",
    "#remove first column\n",
    "main_df = main_df.drop(main_df.columns[0], axis=1)\n",
    "accident_df = accident_df.drop(accident_df.columns[0], axis=1)\n",
    "\n",
    "\n"
   ]
  },
  {
   "cell_type": "code",
   "execution_count": 25,
   "metadata": {},
   "outputs": [
    {
     "data": {
      "text/html": [
       "<div>\n",
       "<style scoped>\n",
       "    .dataframe tbody tr th:only-of-type {\n",
       "        vertical-align: middle;\n",
       "    }\n",
       "\n",
       "    .dataframe tbody tr th {\n",
       "        vertical-align: top;\n",
       "    }\n",
       "\n",
       "    .dataframe thead th {\n",
       "        text-align: right;\n",
       "    }\n",
       "</style>\n",
       "<table border=\"1\" class=\"dataframe\">\n",
       "  <thead>\n",
       "    <tr style=\"text-align: right;\">\n",
       "      <th></th>\n",
       "      <th>ACCIDENT_NO</th>\n",
       "      <th>ACCIDENTDATE</th>\n",
       "      <th>ACCIDENTTIME</th>\n",
       "      <th>ACCIDENT_TYPE</th>\n",
       "      <th>Accident Type Desc</th>\n",
       "      <th>DAY_OF_WEEK</th>\n",
       "      <th>Day Week Description</th>\n",
       "      <th>DCA_CODE</th>\n",
       "      <th>DCA Description</th>\n",
       "      <th>DIRECTORY</th>\n",
       "      <th>...</th>\n",
       "      <th>NO_PERSONS_INJ_2</th>\n",
       "      <th>NO_PERSONS_INJ_3</th>\n",
       "      <th>NO_PERSONS_KILLED</th>\n",
       "      <th>NO_PERSONS_NOT_INJ</th>\n",
       "      <th>POLICE_ATTEND</th>\n",
       "      <th>ROAD_GEOMETRY</th>\n",
       "      <th>Road Geometry Desc</th>\n",
       "      <th>SEVERITY</th>\n",
       "      <th>SPEED_ZONE</th>\n",
       "      <th>SEVERITY_DESC</th>\n",
       "    </tr>\n",
       "  </thead>\n",
       "  <tbody>\n",
       "    <tr>\n",
       "      <th>15939</th>\n",
       "      <td>T20200000016</td>\n",
       "      <td>2020-01-01</td>\n",
       "      <td>00:30:00</td>\n",
       "      <td>4</td>\n",
       "      <td>Collision with a fixed object</td>\n",
       "      <td>4</td>\n",
       "      <td>Wednesday</td>\n",
       "      <td>173</td>\n",
       "      <td>RIGHT OFF CARRIAGEWAY INTO OBJECT/PARKED VEHIC...</td>\n",
       "      <td>MEL</td>\n",
       "      <td>...</td>\n",
       "      <td>1</td>\n",
       "      <td>0</td>\n",
       "      <td>0</td>\n",
       "      <td>2</td>\n",
       "      <td>1</td>\n",
       "      <td>2</td>\n",
       "      <td>T intersection</td>\n",
       "      <td>2</td>\n",
       "      <td>50</td>\n",
       "      <td>Serious injury accident</td>\n",
       "    </tr>\n",
       "    <tr>\n",
       "      <th>15940</th>\n",
       "      <td>T20200000047</td>\n",
       "      <td>2020-01-01</td>\n",
       "      <td>13:47:00</td>\n",
       "      <td>4</td>\n",
       "      <td>Collision with a fixed object</td>\n",
       "      <td>4</td>\n",
       "      <td>Wednesday</td>\n",
       "      <td>175</td>\n",
       "      <td>OFF END OF ROAD/T-INTERSECTION.</td>\n",
       "      <td>MEL</td>\n",
       "      <td>...</td>\n",
       "      <td>1</td>\n",
       "      <td>0</td>\n",
       "      <td>0</td>\n",
       "      <td>0</td>\n",
       "      <td>1</td>\n",
       "      <td>2</td>\n",
       "      <td>T intersection</td>\n",
       "      <td>2</td>\n",
       "      <td>50</td>\n",
       "      <td>Serious injury accident</td>\n",
       "    </tr>\n",
       "    <tr>\n",
       "      <th>15941</th>\n",
       "      <td>T20200000054</td>\n",
       "      <td>2020-01-01</td>\n",
       "      <td>13:00:00</td>\n",
       "      <td>1</td>\n",
       "      <td>Collision with vehicle</td>\n",
       "      <td>4</td>\n",
       "      <td>Wednesday</td>\n",
       "      <td>130</td>\n",
       "      <td>REAR END(VEHICLES IN SAME LANE)</td>\n",
       "      <td>MEL</td>\n",
       "      <td>...</td>\n",
       "      <td>1</td>\n",
       "      <td>0</td>\n",
       "      <td>0</td>\n",
       "      <td>3</td>\n",
       "      <td>1</td>\n",
       "      <td>5</td>\n",
       "      <td>Not at intersection</td>\n",
       "      <td>2</td>\n",
       "      <td>100</td>\n",
       "      <td>Serious injury accident</td>\n",
       "    </tr>\n",
       "    <tr>\n",
       "      <th>15942</th>\n",
       "      <td>T20200000056</td>\n",
       "      <td>2020-01-01</td>\n",
       "      <td>15:10:00</td>\n",
       "      <td>4</td>\n",
       "      <td>Collision with a fixed object</td>\n",
       "      <td>4</td>\n",
       "      <td>Wednesday</td>\n",
       "      <td>181</td>\n",
       "      <td>OFF RIGHT BEND INTO OBJECT/PARKED VEHICLE     ...</td>\n",
       "      <td>VCD</td>\n",
       "      <td>...</td>\n",
       "      <td>1</td>\n",
       "      <td>0</td>\n",
       "      <td>0</td>\n",
       "      <td>0</td>\n",
       "      <td>1</td>\n",
       "      <td>5</td>\n",
       "      <td>Not at intersection</td>\n",
       "      <td>2</td>\n",
       "      <td>100</td>\n",
       "      <td>Serious injury accident</td>\n",
       "    </tr>\n",
       "    <tr>\n",
       "      <th>15943</th>\n",
       "      <td>T20200000084</td>\n",
       "      <td>2020-01-02</td>\n",
       "      <td>08:20:00</td>\n",
       "      <td>1</td>\n",
       "      <td>Collision with vehicle</td>\n",
       "      <td>5</td>\n",
       "      <td>Thursday</td>\n",
       "      <td>152</td>\n",
       "      <td>PULLING OUT (OVERTAKING)</td>\n",
       "      <td>MEL</td>\n",
       "      <td>...</td>\n",
       "      <td>1</td>\n",
       "      <td>0</td>\n",
       "      <td>0</td>\n",
       "      <td>2</td>\n",
       "      <td>1</td>\n",
       "      <td>2</td>\n",
       "      <td>T intersection</td>\n",
       "      <td>2</td>\n",
       "      <td>80</td>\n",
       "      <td>Serious injury accident</td>\n",
       "    </tr>\n",
       "    <tr>\n",
       "      <th>...</th>\n",
       "      <td>...</td>\n",
       "      <td>...</td>\n",
       "      <td>...</td>\n",
       "      <td>...</td>\n",
       "      <td>...</td>\n",
       "      <td>...</td>\n",
       "      <td>...</td>\n",
       "      <td>...</td>\n",
       "      <td>...</td>\n",
       "      <td>...</td>\n",
       "      <td>...</td>\n",
       "      <td>...</td>\n",
       "      <td>...</td>\n",
       "      <td>...</td>\n",
       "      <td>...</td>\n",
       "      <td>...</td>\n",
       "      <td>...</td>\n",
       "      <td>...</td>\n",
       "      <td>...</td>\n",
       "      <td>...</td>\n",
       "      <td>...</td>\n",
       "    </tr>\n",
       "    <tr>\n",
       "      <th>62259</th>\n",
       "      <td>T20200017372</td>\n",
       "      <td>2020-09-30</td>\n",
       "      <td>06:49:00</td>\n",
       "      <td>4</td>\n",
       "      <td>Collision with a fixed object</td>\n",
       "      <td>4</td>\n",
       "      <td>Wednesday</td>\n",
       "      <td>173</td>\n",
       "      <td>RIGHT OFF CARRIAGEWAY INTO OBJECT/PARKED VEHIC...</td>\n",
       "      <td>MEL</td>\n",
       "      <td>...</td>\n",
       "      <td>0</td>\n",
       "      <td>0</td>\n",
       "      <td>1</td>\n",
       "      <td>0</td>\n",
       "      <td>1</td>\n",
       "      <td>5</td>\n",
       "      <td>Not at intersection</td>\n",
       "      <td>1</td>\n",
       "      <td>80</td>\n",
       "      <td>Fatal accident</td>\n",
       "    </tr>\n",
       "    <tr>\n",
       "      <th>62260</th>\n",
       "      <td>T20200018096</td>\n",
       "      <td>2020-10-14</td>\n",
       "      <td>00:15:00</td>\n",
       "      <td>4</td>\n",
       "      <td>Collision with a fixed object</td>\n",
       "      <td>4</td>\n",
       "      <td>Wednesday</td>\n",
       "      <td>183</td>\n",
       "      <td>OFF LEFT BEND INTO OBJECT/PARKED VEHICLE      ...</td>\n",
       "      <td>VCD</td>\n",
       "      <td>...</td>\n",
       "      <td>0</td>\n",
       "      <td>0</td>\n",
       "      <td>1</td>\n",
       "      <td>0</td>\n",
       "      <td>1</td>\n",
       "      <td>5</td>\n",
       "      <td>Not at intersection</td>\n",
       "      <td>1</td>\n",
       "      <td>100</td>\n",
       "      <td>Fatal accident</td>\n",
       "    </tr>\n",
       "    <tr>\n",
       "      <th>62261</th>\n",
       "      <td>T20200018319</td>\n",
       "      <td>2020-10-17</td>\n",
       "      <td>17:19:00</td>\n",
       "      <td>4</td>\n",
       "      <td>Collision with a fixed object</td>\n",
       "      <td>7</td>\n",
       "      <td>Saturday</td>\n",
       "      <td>173</td>\n",
       "      <td>RIGHT OFF CARRIAGEWAY INTO OBJECT/PARKED VEHIC...</td>\n",
       "      <td>MEL</td>\n",
       "      <td>...</td>\n",
       "      <td>0</td>\n",
       "      <td>0</td>\n",
       "      <td>1</td>\n",
       "      <td>0</td>\n",
       "      <td>1</td>\n",
       "      <td>5</td>\n",
       "      <td>Not at intersection</td>\n",
       "      <td>1</td>\n",
       "      <td>100</td>\n",
       "      <td>Fatal accident</td>\n",
       "    </tr>\n",
       "    <tr>\n",
       "      <th>62262</th>\n",
       "      <td>T20200018424</td>\n",
       "      <td>2020-10-19</td>\n",
       "      <td>16:22:00</td>\n",
       "      <td>1</td>\n",
       "      <td>Collision with vehicle</td>\n",
       "      <td>2</td>\n",
       "      <td>Monday</td>\n",
       "      <td>119</td>\n",
       "      <td>OTHER ADJACENT (INTERSECTIONS ONLY)</td>\n",
       "      <td>MEL</td>\n",
       "      <td>...</td>\n",
       "      <td>0</td>\n",
       "      <td>1</td>\n",
       "      <td>1</td>\n",
       "      <td>0</td>\n",
       "      <td>1</td>\n",
       "      <td>2</td>\n",
       "      <td>T intersection</td>\n",
       "      <td>1</td>\n",
       "      <td>100</td>\n",
       "      <td>Fatal accident</td>\n",
       "    </tr>\n",
       "    <tr>\n",
       "      <th>62263</th>\n",
       "      <td>T20200018425</td>\n",
       "      <td>2020-10-19</td>\n",
       "      <td>15:50:00</td>\n",
       "      <td>1</td>\n",
       "      <td>Collision with vehicle</td>\n",
       "      <td>2</td>\n",
       "      <td>Monday</td>\n",
       "      <td>130</td>\n",
       "      <td>REAR END(VEHICLES IN SAME LANE)</td>\n",
       "      <td>MEL</td>\n",
       "      <td>...</td>\n",
       "      <td>0</td>\n",
       "      <td>0</td>\n",
       "      <td>2</td>\n",
       "      <td>3</td>\n",
       "      <td>1</td>\n",
       "      <td>5</td>\n",
       "      <td>Not at intersection</td>\n",
       "      <td>1</td>\n",
       "      <td>70</td>\n",
       "      <td>Fatal accident</td>\n",
       "    </tr>\n",
       "  </tbody>\n",
       "</table>\n",
       "<p>6060 rows × 29 columns</p>\n",
       "</div>"
      ],
      "text/plain": [
       "        ACCIDENT_NO ACCIDENTDATE                    ACCIDENTTIME  \\\n",
       "15939  T20200000016   2020-01-01  00:30:00                         \n",
       "15940  T20200000047   2020-01-01  13:47:00                         \n",
       "15941  T20200000054   2020-01-01  13:00:00                         \n",
       "15942  T20200000056   2020-01-01  15:10:00                         \n",
       "15943  T20200000084   2020-01-02  08:20:00                         \n",
       "...             ...          ...                             ...   \n",
       "62259  T20200017372   2020-09-30  06:49:00                         \n",
       "62260  T20200018096   2020-10-14  00:15:00                         \n",
       "62261  T20200018319   2020-10-17  17:19:00                         \n",
       "62262  T20200018424   2020-10-19  16:22:00                         \n",
       "62263  T20200018425   2020-10-19  15:50:00                         \n",
       "\n",
       "       ACCIDENT_TYPE             Accident Type Desc  DAY_OF_WEEK  \\\n",
       "15939              4  Collision with a fixed object            4   \n",
       "15940              4  Collision with a fixed object            4   \n",
       "15941              1         Collision with vehicle            4   \n",
       "15942              4  Collision with a fixed object            4   \n",
       "15943              1         Collision with vehicle            5   \n",
       "...              ...                            ...          ...   \n",
       "62259              4  Collision with a fixed object            4   \n",
       "62260              4  Collision with a fixed object            4   \n",
       "62261              4  Collision with a fixed object            7   \n",
       "62262              1         Collision with vehicle            2   \n",
       "62263              1         Collision with vehicle            2   \n",
       "\n",
       "      Day Week Description  DCA_CODE  \\\n",
       "15939            Wednesday       173   \n",
       "15940            Wednesday       175   \n",
       "15941            Wednesday       130   \n",
       "15942            Wednesday       181   \n",
       "15943             Thursday       152   \n",
       "...                    ...       ...   \n",
       "62259            Wednesday       173   \n",
       "62260            Wednesday       183   \n",
       "62261             Saturday       173   \n",
       "62262               Monday       119   \n",
       "62263               Monday       130   \n",
       "\n",
       "                                         DCA Description DIRECTORY  ...  \\\n",
       "15939  RIGHT OFF CARRIAGEWAY INTO OBJECT/PARKED VEHIC...       MEL  ...   \n",
       "15940     OFF END OF ROAD/T-INTERSECTION.                      MEL  ...   \n",
       "15941     REAR END(VEHICLES IN SAME LANE)                      MEL  ...   \n",
       "15942  OFF RIGHT BEND INTO OBJECT/PARKED VEHICLE     ...       VCD  ...   \n",
       "15943         PULLING OUT (OVERTAKING)                         MEL  ...   \n",
       "...                                                  ...       ...  ...   \n",
       "62259  RIGHT OFF CARRIAGEWAY INTO OBJECT/PARKED VEHIC...       MEL  ...   \n",
       "62260  OFF LEFT BEND INTO OBJECT/PARKED VEHICLE      ...       VCD  ...   \n",
       "62261  RIGHT OFF CARRIAGEWAY INTO OBJECT/PARKED VEHIC...       MEL  ...   \n",
       "62262   OTHER ADJACENT (INTERSECTIONS ONLY)                    MEL  ...   \n",
       "62263     REAR END(VEHICLES IN SAME LANE)                      MEL  ...   \n",
       "\n",
       "      NO_PERSONS_INJ_2 NO_PERSONS_INJ_3 NO_PERSONS_KILLED NO_PERSONS_NOT_INJ  \\\n",
       "15939                1                0                 0                  2   \n",
       "15940                1                0                 0                  0   \n",
       "15941                1                0                 0                  3   \n",
       "15942                1                0                 0                  0   \n",
       "15943                1                0                 0                  2   \n",
       "...                ...              ...               ...                ...   \n",
       "62259                0                0                 1                  0   \n",
       "62260                0                0                 1                  0   \n",
       "62261                0                0                 1                  0   \n",
       "62262                0                1                 1                  0   \n",
       "62263                0                0                 2                  3   \n",
       "\n",
       "       POLICE_ATTEND ROAD_GEOMETRY   Road Geometry Desc  SEVERITY  SPEED_ZONE  \\\n",
       "15939              1             2       T intersection         2          50   \n",
       "15940              1             2       T intersection         2          50   \n",
       "15941              1             5  Not at intersection         2         100   \n",
       "15942              1             5  Not at intersection         2         100   \n",
       "15943              1             2       T intersection         2          80   \n",
       "...              ...           ...                  ...       ...         ...   \n",
       "62259              1             5  Not at intersection         1          80   \n",
       "62260              1             5  Not at intersection         1         100   \n",
       "62261              1             5  Not at intersection         1         100   \n",
       "62262              1             2       T intersection         1         100   \n",
       "62263              1             5  Not at intersection         1          70   \n",
       "\n",
       "                 SEVERITY_DESC  \n",
       "15939  Serious injury accident  \n",
       "15940  Serious injury accident  \n",
       "15941  Serious injury accident  \n",
       "15942  Serious injury accident  \n",
       "15943  Serious injury accident  \n",
       "...                        ...  \n",
       "62259           Fatal accident  \n",
       "62260           Fatal accident  \n",
       "62261           Fatal accident  \n",
       "62262           Fatal accident  \n",
       "62263           Fatal accident  \n",
       "\n",
       "[6060 rows x 29 columns]"
      ]
     },
     "execution_count": 25,
     "metadata": {},
     "output_type": "execute_result"
    }
   ],
   "source": [
    "main_accident_df = accident_df[accident_df[\"ACCIDENT_NO\"].isin(main_df[\"ACCIDENT_NO\"])]\n",
    "\n",
    "#converting accidentdate column to datetime format, for easier search\n",
    "main_df[\"ACCIDENTDATE\"] = pd.to_datetime(main_df[\"ACCIDENTDATE\"])\n",
    "main_accident_df[\"ACCIDENTDATE\"] = pd.to_datetime(main_accident_df[\"ACCIDENTDATE\"])\n",
    "#main_df[\"Year\"] = main_df[\"ACCIDENTDATE\"].dt.year\n",
    "\n",
    "#creating dataframes for each year's accidents\n",
    "main_2016_df = main_df[main_df[\"ACCIDENTDATE\"].dt.year == 2016]\n",
    "main_2017_df = main_df[main_df[\"ACCIDENTDATE\"].dt.year == 2017]\n",
    "main_2018_df = main_df[main_df[\"ACCIDENTDATE\"].dt.year == 2018]\n",
    "main_2019_df = main_df[main_df[\"ACCIDENTDATE\"].dt.year == 2019]\n",
    "main_2020_df = main_df[main_df[\"ACCIDENTDATE\"].dt.year == 2020]\n",
    "\n",
    "\n",
    "# accident  dataframes based on year\n",
    "accident_2016_df = accident_df[accident_df[\"ACCIDENT_NO\"].isin(main_2016_df[\"ACCIDENT_NO\"])]\n",
    "accident_2017_df = accident_df[accident_df[\"ACCIDENT_NO\"].isin(main_2017_df[\"ACCIDENT_NO\"])]\n",
    "accident_2018_df = accident_df[accident_df[\"ACCIDENT_NO\"].isin(main_2018_df[\"ACCIDENT_NO\"])]\n",
    "accident_2019_df = accident_df[accident_df[\"ACCIDENT_NO\"].isin(main_2019_df[\"ACCIDENT_NO\"])]\n",
    "accident_2020_df = accident_df[accident_df[\"ACCIDENT_NO\"].isin(main_2020_df[\"ACCIDENT_NO\"])]\n",
    "\n",
    "\n",
    "accident_2020_df\n"
   ]
  },
  {
   "cell_type": "markdown",
   "metadata": {},
   "source": [
    "# selecting the relevant columns\n"
   ]
  },
  {
   "cell_type": "code",
   "execution_count": 26,
   "metadata": {},
   "outputs": [],
   "source": [
    "\n",
    "accident_2016_df = accident_2016_df[[\"ACCIDENT_NO\",\"ACCIDENTDATE\",\"NO_PERSONS\"]]\n",
    "accident_2017_df = accident_2017_df[[\"ACCIDENT_NO\",\"ACCIDENTDATE\",\"NO_PERSONS\"]]\n",
    "accident_2018_df = accident_2018_df[[\"ACCIDENT_NO\",\"ACCIDENTDATE\",\"NO_PERSONS\"]]\n",
    "accident_2019_df = accident_2019_df[[\"ACCIDENT_NO\",\"ACCIDENTDATE\",\"NO_PERSONS\"]]\n",
    "accident_2020_df = accident_2020_df[[\"ACCIDENT_NO\",\"ACCIDENTDATE\",\"NO_PERSONS\"]]\n",
    "\n",
    "main_accident_df = main_accident_df[[\"ACCIDENT_NO\",\"ACCIDENTDATE\",\"NO_PERSONS\",\"NO_PERSONS_KILLED\",\"NO_PERSONS_NOT_INJ\"]]\n"
   ]
  },
  {
   "cell_type": "code",
   "execution_count": 107,
   "metadata": {},
   "outputs": [
    {
     "data": {
      "text/html": [
       "<div>\n",
       "<style scoped>\n",
       "    .dataframe tbody tr th:only-of-type {\n",
       "        vertical-align: middle;\n",
       "    }\n",
       "\n",
       "    .dataframe tbody tr th {\n",
       "        vertical-align: top;\n",
       "    }\n",
       "\n",
       "    .dataframe thead th {\n",
       "        text-align: right;\n",
       "    }\n",
       "</style>\n",
       "<table border=\"1\" class=\"dataframe\">\n",
       "  <thead>\n",
       "    <tr style=\"text-align: right;\">\n",
       "      <th></th>\n",
       "      <th>ACCIDENT_NO</th>\n",
       "      <th>ACCIDENTDATE</th>\n",
       "      <th>NO_PERSONS</th>\n",
       "      <th>NO_PERSONS_KILLED</th>\n",
       "    </tr>\n",
       "  </thead>\n",
       "  <tbody>\n",
       "    <tr>\n",
       "      <th>0</th>\n",
       "      <td>T20160000013</td>\n",
       "      <td>2016-01-01</td>\n",
       "      <td>2</td>\n",
       "      <td>0</td>\n",
       "    </tr>\n",
       "    <tr>\n",
       "      <th>1</th>\n",
       "      <td>T20160000015</td>\n",
       "      <td>2016-01-01</td>\n",
       "      <td>1</td>\n",
       "      <td>0</td>\n",
       "    </tr>\n",
       "    <tr>\n",
       "      <th>2</th>\n",
       "      <td>T20160000019</td>\n",
       "      <td>2016-01-01</td>\n",
       "      <td>1</td>\n",
       "      <td>0</td>\n",
       "    </tr>\n",
       "    <tr>\n",
       "      <th>3</th>\n",
       "      <td>T20160000028</td>\n",
       "      <td>2016-01-01</td>\n",
       "      <td>2</td>\n",
       "      <td>0</td>\n",
       "    </tr>\n",
       "    <tr>\n",
       "      <th>4</th>\n",
       "      <td>T20160000031</td>\n",
       "      <td>2016-01-01</td>\n",
       "      <td>2</td>\n",
       "      <td>0</td>\n",
       "    </tr>\n",
       "    <tr>\n",
       "      <th>...</th>\n",
       "      <td>...</td>\n",
       "      <td>...</td>\n",
       "      <td>...</td>\n",
       "      <td>...</td>\n",
       "    </tr>\n",
       "    <tr>\n",
       "      <th>62261</th>\n",
       "      <td>T20200019239</td>\n",
       "      <td>2020-11-01</td>\n",
       "      <td>4</td>\n",
       "      <td>0</td>\n",
       "    </tr>\n",
       "    <tr>\n",
       "      <th>62262</th>\n",
       "      <td>T20200019247</td>\n",
       "      <td>2020-11-01</td>\n",
       "      <td>2</td>\n",
       "      <td>0</td>\n",
       "    </tr>\n",
       "    <tr>\n",
       "      <th>62263</th>\n",
       "      <td>T20200019250</td>\n",
       "      <td>2020-11-01</td>\n",
       "      <td>2</td>\n",
       "      <td>0</td>\n",
       "    </tr>\n",
       "    <tr>\n",
       "      <th>62264</th>\n",
       "      <td>T20200019253</td>\n",
       "      <td>2020-11-01</td>\n",
       "      <td>1</td>\n",
       "      <td>0</td>\n",
       "    </tr>\n",
       "    <tr>\n",
       "      <th>62265</th>\n",
       "      <td>T20200019417</td>\n",
       "      <td>2020-11-04</td>\n",
       "      <td>1</td>\n",
       "      <td>0</td>\n",
       "    </tr>\n",
       "  </tbody>\n",
       "</table>\n",
       "<p>62266 rows × 4 columns</p>\n",
       "</div>"
      ],
      "text/plain": [
       "        ACCIDENT_NO ACCIDENTDATE  NO_PERSONS  NO_PERSONS_KILLED\n",
       "0      T20160000013   2016-01-01           2                  0\n",
       "1      T20160000015   2016-01-01           1                  0\n",
       "2      T20160000019   2016-01-01           1                  0\n",
       "3      T20160000028   2016-01-01           2                  0\n",
       "4      T20160000031   2016-01-01           2                  0\n",
       "...             ...          ...         ...                ...\n",
       "62261  T20200019239   2020-11-01           4                  0\n",
       "62262  T20200019247   2020-11-01           2                  0\n",
       "62263  T20200019250   2020-11-01           2                  0\n",
       "62264  T20200019253   2020-11-01           1                  0\n",
       "62265  T20200019417   2020-11-04           1                  0\n",
       "\n",
       "[62266 rows x 4 columns]"
      ]
     },
     "execution_count": 107,
     "metadata": {},
     "output_type": "execute_result"
    }
   ],
   "source": [
    "main_accident_df"
   ]
  },
  {
   "cell_type": "markdown",
   "metadata": {},
   "source": [
    "# number of accidents per year\n",
    "2016-2019"
   ]
  },
  {
   "cell_type": "code",
   "execution_count": 29,
   "metadata": {},
   "outputs": [
    {
     "data": {
      "text/html": [
       "<div>\n",
       "<style scoped>\n",
       "    .dataframe tbody tr th:only-of-type {\n",
       "        vertical-align: middle;\n",
       "    }\n",
       "\n",
       "    .dataframe tbody tr th {\n",
       "        vertical-align: top;\n",
       "    }\n",
       "\n",
       "    .dataframe thead th {\n",
       "        text-align: right;\n",
       "    }\n",
       "</style>\n",
       "<table border=\"1\" class=\"dataframe\">\n",
       "  <thead>\n",
       "    <tr style=\"text-align: right;\">\n",
       "      <th></th>\n",
       "      <th>Number_of_accidents</th>\n",
       "      <th>Persons</th>\n",
       "      <th>Deaths</th>\n",
       "      <th>Not_injured</th>\n",
       "      <th>Injured</th>\n",
       "      <th>mean_people_injured</th>\n",
       "      <th>mean_people_death</th>\n",
       "    </tr>\n",
       "    <tr>\n",
       "      <th>ACCIDENTDATE</th>\n",
       "      <th></th>\n",
       "      <th></th>\n",
       "      <th></th>\n",
       "      <th></th>\n",
       "      <th></th>\n",
       "      <th></th>\n",
       "      <th></th>\n",
       "    </tr>\n",
       "  </thead>\n",
       "  <tbody>\n",
       "    <tr>\n",
       "      <th>2016</th>\n",
       "      <td>15852</td>\n",
       "      <td>37629</td>\n",
       "      <td>290</td>\n",
       "      <td>17738</td>\n",
       "      <td>19601</td>\n",
       "      <td>1.236500</td>\n",
       "      <td>0.018294</td>\n",
       "    </tr>\n",
       "    <tr>\n",
       "      <th>2017</th>\n",
       "      <td>13393</td>\n",
       "      <td>32329</td>\n",
       "      <td>259</td>\n",
       "      <td>15293</td>\n",
       "      <td>16777</td>\n",
       "      <td>1.252669</td>\n",
       "      <td>0.019338</td>\n",
       "    </tr>\n",
       "    <tr>\n",
       "      <th>2018</th>\n",
       "      <td>12797</td>\n",
       "      <td>30810</td>\n",
       "      <td>211</td>\n",
       "      <td>14668</td>\n",
       "      <td>15931</td>\n",
       "      <td>1.244901</td>\n",
       "      <td>0.016488</td>\n",
       "    </tr>\n",
       "    <tr>\n",
       "      <th>2019</th>\n",
       "      <td>14164</td>\n",
       "      <td>34056</td>\n",
       "      <td>263</td>\n",
       "      <td>15975</td>\n",
       "      <td>17818</td>\n",
       "      <td>1.257978</td>\n",
       "      <td>0.018568</td>\n",
       "    </tr>\n",
       "    <tr>\n",
       "      <th>2020</th>\n",
       "      <td>6060</td>\n",
       "      <td>13589</td>\n",
       "      <td>150</td>\n",
       "      <td>6026</td>\n",
       "      <td>7413</td>\n",
       "      <td>1.223267</td>\n",
       "      <td>0.024752</td>\n",
       "    </tr>\n",
       "  </tbody>\n",
       "</table>\n",
       "</div>"
      ],
      "text/plain": [
       "              Number_of_accidents  Persons  Deaths  Not_injured  Injured  \\\n",
       "ACCIDENTDATE                                                               \n",
       "2016                        15852    37629     290        17738    19601   \n",
       "2017                        13393    32329     259        15293    16777   \n",
       "2018                        12797    30810     211        14668    15931   \n",
       "2019                        14164    34056     263        15975    17818   \n",
       "2020                         6060    13589     150         6026     7413   \n",
       "\n",
       "              mean_people_injured  mean_people_death  \n",
       "ACCIDENTDATE                                          \n",
       "2016                     1.236500           0.018294  \n",
       "2017                     1.252669           0.019338  \n",
       "2018                     1.244901           0.016488  \n",
       "2019                     1.257978           0.018568  \n",
       "2020                     1.223267           0.024752  "
      ]
     },
     "execution_count": 29,
     "metadata": {},
     "output_type": "execute_result"
    }
   ],
   "source": [
    "#creating summary table\n",
    "\n",
    "sum_df_years = pd.DataFrame()\n",
    "sum_df_years[\"Number_of_accidents\"] = main_accident_df.groupby(main_accident_df[\"ACCIDENTDATE\"].dt.year, as_index=True)[\"ACCIDENT_NO\"].count()\n",
    "#sum_df_years = sum_df_years.drop(sum_df_years.index[-1]) #drop last row (2020)\n",
    "#sum_df_years[\"Number_of_accidents\"][2016]\n",
    "sum_df_years[\"Persons\"] = main_accident_df.groupby(main_accident_df[\"ACCIDENTDATE\"].dt.year, as_index=True)[\"NO_PERSONS\"].sum()\n",
    "sum_df_years[\"Deaths\"] = main_accident_df.groupby(main_accident_df[\"ACCIDENTDATE\"].dt.year, as_index=True)[\"NO_PERSONS_KILLED\"].sum()\n",
    "sum_df_years[\"Not_injured\"] = main_accident_df.groupby(main_accident_df[\"ACCIDENTDATE\"].dt.year, as_index=True)[\"NO_PERSONS_NOT_INJ\"].sum()\n",
    "sum_df_years[\"Injured\"] = sum_df_years[\"Persons\"] - (sum_df_years[\"Deaths\"] + sum_df_years[\"Not_injured\"])\n",
    "sum_df_years[\"mean_people_injured\"] = sum_df_years[\"Injured\"] / sum_df_years[\"Number_of_accidents\"]\n",
    "sum_df_years[\"mean_people_death\"] = main_accident_df.groupby(main_accident_df[\"ACCIDENTDATE\"].dt.year, as_index=True)[\"NO_PERSONS_KILLED\"].mean()\n",
    "\n",
    "sum_df_years\n"
   ]
  },
  {
   "cell_type": "markdown",
   "metadata": {},
   "source": [
    "# number of accidents per year\n"
   ]
  },
  {
   "cell_type": "code",
   "execution_count": 18,
   "metadata": {},
   "outputs": [
    {
     "data": {
      "image/png": "[encoded data removed]",
      "text/plain": [
       "<Figure size 1800x720 with 1 Axes>"
      ]
     },
     "metadata": {
      "needs_background": "light"
     },
     "output_type": "display_data"
    }
   ],
   "source": [
    "plt.figure(figsize=(25, 10))\n",
    "sum_df_years[\"Number_of_accidents\"].plot(kind=\"bar\")\n",
    "plt.xticks(rotation=0, horizontalalignment=\"center\")\n",
    "plt.title(\"Number of Accidents per year (2016-2020)\")\n",
    "plt.xlabel(\"Year\")\n",
    "plt.ylabel(\"Number of Accidents\")\n",
    "\n",
    "plt.ylim(0,17000)\n",
    "plt.savefig(\"project_output/accidents_per_year.png\")\n"
   ]
  },
  {
   "cell_type": "markdown",
   "metadata": {},
   "source": [
    "# people injured \n",
    "# people killed\n"
   ]
  },
  {
   "cell_type": "code",
   "execution_count": null,
   "metadata": {},
   "outputs": [],
   "source": []
  },
  {
   "cell_type": "code",
   "execution_count": 23,
   "metadata": {},
   "outputs": [
    {
     "data": {
      "image/png": "[encoded data removed]",
      "text/plain": [
       "<Figure size 1800x720 with 1 Axes>"
      ]
     },
     "metadata": {
      "needs_background": "light"
     },
     "output_type": "display_data"
    }
   ],
   "source": [
    "plt.figure(figsize=(25, 10))\n",
    "sum_df_years[\"Deaths\"].plot(kind=\"bar\")\n",
    "plt.xticks(rotation=0, horizontalalignment=\"center\")\n",
    "plt.title(\"Number of road deaths per year (2016-2020)\")\n",
    "plt.xlabel(\"Year\")\n",
    "plt.ylabel(\"Deaths\")\n",
    "\n",
    "plt.savefig(\"project_output/deaths_per_year.png\")"
   ]
  },
  {
   "cell_type": "code",
   "execution_count": 33,
   "metadata": {},
   "outputs": [
    {
     "data": {
      "image/png": "[encoded data removed]",
      "text/plain": [
       "<Figure size 1800x720 with 1 Axes>"
      ]
     },
     "metadata": {
      "needs_background": "light"
     },
     "output_type": "display_data"
    }
   ],
   "source": [
    "plt.figure(figsize=(25, 10))\n",
    "sum_df_years[\"Persons\"].plot(kind=\"bar\")\n",
    "plt.xticks(rotation=0, horizontalalignment=\"center\")\n",
    "plt.title(\"Number of people injured per year (2016-2020)\")\n",
    "plt.xlabel(\"Year\")\n",
    "plt.ylabel(\"Number of people injured\")\n",
    "\n",
    "plt.savefig(\"project_output/injuries_per_year.png\")"
   ]
  },
  {
   "cell_type": "markdown",
   "metadata": {},
   "source": [
    "# for every accident, how many people are injured"
   ]
  },
  {
   "cell_type": "code",
   "execution_count": 142,
   "metadata": {},
   "outputs": [
    {
     "data": {
      "text/plain": [
       "(2.0, 2.5)"
      ]
     },
     "execution_count": 142,
     "metadata": {},
     "output_type": "execute_result"
    },
    {
     "data": {
      "image/png": "[encoded data removed]",
      "text/plain": [
       "<Figure size 432x288 with 1 Axes>"
      ]
     },
     "metadata": {
      "needs_background": "light"
     },
     "output_type": "display_data"
    }
   ],
   "source": [
    "plt.figure(figsize=(25, 10))\n",
    "sum_df_years[\"mean_people_injured\"].plot(kind=\"bar\")\n",
    "plt.xticks(rotation=0, horizontalalignment=\"center\")\n",
    "plt.title(\"Average  (2016-2020)\")\n",
    "plt.xlabel(\"Year\")\n",
    "plt.ylabel(\"Number of people injured\")\n",
    "plt.ylim(2,2.5)\n",
    "\n",
    "plt.savefig(\"project_output/injuries_per_year.png\")"
   ]
  },
  {
   "cell_type": "markdown",
   "metadata": {},
   "source": [
    "# for every accident, how many people die?\n",
    "\n"
   ]
  },
  {
   "cell_type": "code",
   "execution_count": 145,
   "metadata": {},
   "outputs": [
    {
     "data": {
      "text/plain": [
       "Text(0, 0.5, 'Number of people injured')"
      ]
     },
     "execution_count": 145,
     "metadata": {},
     "output_type": "execute_result"
    },
    {
     "data": {
      "image/png": "[encoded data removed]",
      "text/plain": [
       "<Figure size 432x288 with 1 Axes>"
      ]
     },
     "metadata": {
      "needs_background": "light"
     },
     "output_type": "display_data"
    }
   ],
   "source": [
    "sum_df_years[\"mean_people_death\"].plot(kind=\"bar\")\n",
    "plt.xticks(rotation=0, horizontalalignment=\"center\")\n",
    "plt.title(\"Number of people injured per year (2016-2020)\")\n",
    "plt.xlabel(\"Year\")\n",
    "plt.ylabel(\"Number of people injured\")\n"
   ]
  },
  {
   "cell_type": "markdown",
   "metadata": {},
   "source": [
    "# 2016 - 2020 accidents per month\n"
   ]
  },
  {
   "cell_type": "code",
   "execution_count": 183,
   "metadata": {},
   "outputs": [
    {
     "data": {
      "image/png": "[encoded data removed]",
      "text/plain": [
       "<Figure size 432x288 with 1 Axes>"
      ]
     },
     "metadata": {
      "needs_background": "light"
     },
     "output_type": "display_data"
    },
    {
     "data": {
      "image/png": "[encoded data removed]",
      "text/plain": [
       "<Figure size 432x288 with 1 Axes>"
      ]
     },
     "metadata": {
      "needs_background": "light"
     },
     "output_type": "display_data"
    },
    {
     "data": {
      "image/png": "[encoded data removed]",
      "text/plain": [
       "<Figure size 432x288 with 1 Axes>"
      ]
     },
     "metadata": {
      "needs_background": "light"
     },
     "output_type": "display_data"
    },
    {
     "data": {
      "image/png": "[encoded data removed]",
      "text/plain": [
       "<Figure size 432x288 with 1 Axes>"
      ]
     },
     "metadata": {
      "needs_background": "light"
     },
     "output_type": "display_data"
    },
    {
     "data": {
      "image/png": "[encoded data removed]",
      "text/plain": [
       "<Figure size 432x288 with 1 Axes>"
      ]
     },
     "metadata": {
      "needs_background": "light"
     },
     "output_type": "display_data"
    }
   ],
   "source": [
    "#months \n",
    "\n",
    "\n",
    "sum_df_months = pd.DataFrame()\n",
    "sum_df_months[\"Number_of_accidents\"] = main_accident_df.groupby([main_accident_df[\"ACCIDENTDATE\"].dt.year,main_accident_df[\"ACCIDENTDATE\"].dt.month], as_index=True)[\"ACCIDENT_NO\"].count()\n",
    "sum_df_months[\"Number_of_deaths\"] = main_accident_df.groupby([main_accident_df[\"ACCIDENTDATE\"].dt.year,main_accident_df[\"ACCIDENTDATE\"].dt.month], as_index=True)[\"NO_PERSONS_KILLED\"].sum()\n",
    "\n",
    "\n",
    "plt.xticks(rotation=0, horizontalalignment=\"center\")\n",
    "\n",
    "\n",
    "plt.xlabel(\"Month\")\n",
    "plt.ylabel(\"Number of Accidents\")\n",
    "plt.ylim(0,2000)\n",
    "\n",
    "sum_df_months[\"Number_of_accidents\"][2016].plot(kind=\"bar\")\n",
    "plt.title(\"Number of Accidents per month (2016)\")\n",
    "plt.xlabel(\"Month\")\n",
    "plt.ylabel(\"Number of Accidents\")\n",
    "plt.ylim(0,2000)\n",
    "plt.show()\n",
    "\n",
    "sum_df_months[\"Number_of_accidents\"][2017].plot(kind=\"bar\")\n",
    "plt.title(\"Number of Accidents per month (2017)\")\n",
    "plt.xlabel(\"Month\")\n",
    "plt.ylabel(\"Number of Accidents\")\n",
    "plt.ylim(0,2000)\n",
    "plt.show()\n",
    "\n",
    "sum_df_months[\"Number_of_accidents\"][2018].plot(kind=\"bar\")\n",
    "plt.title(\"Number of Accidents per month (2018)\")\n",
    "plt.xlabel(\"Month\")\n",
    "plt.ylabel(\"Number of Accidents\")\n",
    "plt.ylim(0,2000)\n",
    "plt.show()\n",
    "\n",
    "sum_df_months[\"Number_of_accidents\"][2019].plot(kind=\"bar\")\n",
    "plt.title(\"Number of Accidents per month (2019)\")\n",
    "plt.xlabel(\"Month\")\n",
    "plt.ylabel(\"Number of Accidents\")\n",
    "plt.ylim(0,2000)\n",
    "plt.show()\n",
    "\n",
    "sum_df_months[\"Number_of_accidents\"][2020].plot(kind=\"bar\")\n",
    "plt.title(\"Number of Accidents per month (2020)\")\n",
    "plt.xlabel(\"Month\")\n",
    "plt.ylabel(\"Number of Accidents\")\n",
    "plt.ylim(0,2000)\n",
    "plt.show()\n",
    "\n",
    "\n",
    "\n"
   ]
  },
  {
   "cell_type": "markdown",
   "metadata": {},
   "source": [
    "# 2016 - 2020 people killed per month\n"
   ]
  },
  {
   "cell_type": "code",
   "execution_count": 179,
   "metadata": {},
   "outputs": [
    {
     "data": {
      "image/png": "[encoded data removed]",
      "text/plain": [
       "<Figure size 432x288 with 1 Axes>"
      ]
     },
     "metadata": {
      "needs_background": "light"
     },
     "output_type": "display_data"
    },
    {
     "data": {
      "image/png": "[encoded data removed]",
      "text/plain": [
       "<Figure size 432x288 with 1 Axes>"
      ]
     },
     "metadata": {
      "needs_background": "light"
     },
     "output_type": "display_data"
    },
    {
     "data": {
      "image/png": "[encoded data removed]",
      "text/plain": [
       "<Figure size 432x288 with 1 Axes>"
      ]
     },
     "metadata": {
      "needs_background": "light"
     },
     "output_type": "display_data"
    },
    {
     "data": {
      "image/png": "[encoded data removed]",
      "text/plain": [
       "<Figure size 432x288 with 1 Axes>"
      ]
     },
     "metadata": {
      "needs_background": "light"
     },
     "output_type": "display_data"
    },
    {
     "data": {
      "image/png": "[encoded data removed]",
      "text/plain": [
       "<Figure size 432x288 with 1 Axes>"
      ]
     },
     "metadata": {
      "needs_background": "light"
     },
     "output_type": "display_data"
    }
   ],
   "source": [
    "\n",
    "plt.xticks(rotation=0, horizontalalignment=\"center\")\n",
    "plt.xlabel(\"Month\")\n",
    "plt.ylabel(\"Number of Accidents\")\n",
    "plt.ylim(0,50)\n",
    "\n",
    "sum_df_months[\"Number_of_deaths\"][2016].plot(kind=\"bar\")\n",
    "plt.title(\"Number of Deaths per month (2016)\")\n",
    "plt.xlabel(\"Month\")\n",
    "plt.ylabel(\"Number of Deaths\")\n",
    "plt.ylim(0,50)\n",
    "plt.show()\n",
    "\n",
    "sum_df_months[\"Number_of_deaths\"][2017].plot(kind=\"bar\")\n",
    "plt.title(\"Number of Deaths per month (2017)\")\n",
    "plt.xlabel(\"Month\")\n",
    "plt.ylabel(\"Number of Deaths\")\n",
    "plt.ylim(0,50)\n",
    "plt.show()\n",
    "\n",
    "sum_df_months[\"Number_of_deaths\"][2018].plot(kind=\"bar\")\n",
    "plt.title(\"Number of Deaths per month (2018)\")\n",
    "plt.xlabel(\"Month\")\n",
    "plt.ylabel(\"Number of Deaths\")\n",
    "plt.ylim(0,50)\n",
    "plt.show()\n",
    "\n",
    "sum_df_months[\"Number_of_deaths\"][2019].plot(kind=\"bar\")\n",
    "plt.title(\"Number of Deaths per month (2019)\")\n",
    "plt.xlabel(\"Month\")\n",
    "plt.ylabel(\"Number of Deaths\")\n",
    "plt.ylim(0,50)\n",
    "plt.show()\n",
    "\n",
    "sum_df_months[\"Number_of_deaths\"][2020].plot(kind=\"bar\")\n",
    "plt.title(\"Number of Deaths per month (2020)\")\n",
    "plt.xlabel(\"Month\")\n",
    "plt.ylabel(\"Number of Deaths\")\n",
    "plt.ylim(0,50)\n",
    "plt.show()\n",
    "\n",
    "\n",
    "\n"
   ]
  }
 ],
 "metadata": {
  "kernelspec": {
   "display_name": "Python 3.7.13 ('bootcamp')",
   "language": "python",
   "name": "python3"
  },
  "language_info": {
   "codemirror_mode": {
    "name": "ipython",
    "version": 3
   },
   "file_extension": ".py",
   "mimetype": "text/x-python",
   "name": "python",
   "nbconvert_exporter": "python",
   "pygments_lexer": "ipython3",
   "version": "3.7.13"
  },
  "orig_nbformat": 4,
  "vscode": {
   "interpreter": {
    "hash": "d3c3aa688ac86767ca0cc64da043c6600fa26f66b77c36d09bb4bee152a721f9"
   }
  }
 },
 "nbformat": 4,
 "nbformat_minor": 2
}
