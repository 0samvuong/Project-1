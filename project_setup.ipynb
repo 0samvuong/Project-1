{
 "cells": [
  {
   "cell_type": "markdown",
   "metadata": {},
   "source": [
    "### Import Dependencies"
   ]
  },
  {
   "cell_type": "code",
   "execution_count": 1,
   "metadata": {},
   "outputs": [],
   "source": [
    "import numpy as np\n",
    "import pandas as pd\n",
    "import matplotlib.pyplot as plt\n",
    "from datetime import datetime\n",
    "import csv"
   ]
  },
  {
   "cell_type": "markdown",
   "metadata": {},
   "source": [
    "### Retrieve CSV data files"
   ]
  },
  {
   "cell_type": "code",
   "execution_count": 2,
   "metadata": {},
   "outputs": [
    {
     "name": "stderr",
     "output_type": "stream",
     "text": [
      "c:\\Users\\Dog\\anaconda3\\envs\\bootcamp\\lib\\site-packages\\IPython\\core\\interactiveshell.py:3457: DtypeWarning: Columns (6,9,10,13) have mixed types.Specify dtype option on import or set low_memory=False.\n",
      "  exec(code_obj, self.user_global_ns, self.user_ns)\n",
      "c:\\Users\\Dog\\anaconda3\\envs\\bootcamp\\lib\\site-packages\\IPython\\core\\interactiveshell.py:3457: DtypeWarning: Columns (3,25,26,35,36) have mixed types.Specify dtype option on import or set low_memory=False.\n",
      "  exec(code_obj, self.user_global_ns, self.user_ns)\n"
     ]
    }
   ],
   "source": [
    "#CSV file paths\n",
    "\n",
    "accident_path = \"source_data/ACCIDENT.csv\"\n",
    "accident_event_path = \"source_data/ACCIDENT_EVENT.csv\"\n",
    "accident_location_path = \"source_data/ACCIDENT_LOCATION.csv\"\n",
    "atmospheric_cond_path = \"source_data/ATMOSPHERIC_COND.csv\"\n",
    "node_path = \"source_data/NODE.csv\"\n",
    "person_path = \"source_data/PERSON.csv\"\n",
    "road_surface_cond_path = \"source_data/ROAD_SURFACE_COND.csv\"\n",
    "subdca_path = \"source_data/SUBDCA.csv\"\n",
    "vehicle_path = \"source_data/VEHICLE.csv\"\n",
    "\n",
    "# reading the CSV files\n",
    "\n",
    "# ACCIDENT_NO, date, time, speed zone, sex, age\n",
    "\n",
    "# reading the CSV files, increase memory capacity\n",
    "accident_df = pd.read_csv(accident_path, \n",
    "                          parse_dates=[\"ACCIDENTDATE\"], infer_datetime_format = True, low_memory = False)\n",
    "accident_event_df = pd.read_csv(accident_event_path)\n",
    "accident_location_df = pd.read_csv(accident_location_path)\n",
    "atmospheric_cond_df = pd.read_csv(atmospheric_cond_path)\n",
    "node_df = pd.read_csv(node_path)\n",
    "person_df = pd.read_csv(person_path)\n",
    "road_surface_cond_df = pd.read_csv(road_surface_cond_path)\n",
    "subdca_path_df = pd.read_csv(subdca_path)\n",
    "vehicle_path_df = pd.read_csv(vehicle_path)"
   ]
  },
  {
   "cell_type": "markdown",
   "metadata": {},
   "source": [
    "### Create accident master frame for later functional reference"
   ]
  },
  {
   "cell_type": "code",
   "execution_count": 5,
   "metadata": {},
   "outputs": [
    {
     "name": "stdout",
     "output_type": "stream",
     "text": [
      "203708\n"
     ]
    },
    {
     "data": {
      "text/html": [
       "<div>\n",
       "<style scoped>\n",
       "    .dataframe tbody tr th:only-of-type {\n",
       "        vertical-align: middle;\n",
       "    }\n",
       "\n",
       "    .dataframe tbody tr th {\n",
       "        vertical-align: top;\n",
       "    }\n",
       "\n",
       "    .dataframe thead th {\n",
       "        text-align: right;\n",
       "    }\n",
       "</style>\n",
       "<table border=\"1\" class=\"dataframe\">\n",
       "  <thead>\n",
       "    <tr style=\"text-align: right;\">\n",
       "      <th></th>\n",
       "      <th>ACCIDENT_NO</th>\n",
       "      <th>ACCIDENTDATE</th>\n",
       "    </tr>\n",
       "  </thead>\n",
       "  <tbody>\n",
       "    <tr>\n",
       "      <th>0</th>\n",
       "      <td>T20060000010</td>\n",
       "      <td>2006-01-13</td>\n",
       "    </tr>\n",
       "    <tr>\n",
       "      <th>1</th>\n",
       "      <td>T20060000018</td>\n",
       "      <td>2006-01-13</td>\n",
       "    </tr>\n",
       "    <tr>\n",
       "      <th>2</th>\n",
       "      <td>T20060000022</td>\n",
       "      <td>2006-01-14</td>\n",
       "    </tr>\n",
       "    <tr>\n",
       "      <th>3</th>\n",
       "      <td>T20060000023</td>\n",
       "      <td>2006-01-14</td>\n",
       "    </tr>\n",
       "    <tr>\n",
       "      <th>4</th>\n",
       "      <td>T20060000026</td>\n",
       "      <td>2006-01-14</td>\n",
       "    </tr>\n",
       "  </tbody>\n",
       "</table>\n",
       "</div>"
      ],
      "text/plain": [
       "    ACCIDENT_NO ACCIDENTDATE\n",
       "0  T20060000010   2006-01-13\n",
       "1  T20060000018   2006-01-13\n",
       "2  T20060000022   2006-01-14\n",
       "3  T20060000023   2006-01-14\n",
       "4  T20060000026   2006-01-14"
      ]
     },
     "execution_count": 5,
     "metadata": {},
     "output_type": "execute_result"
    }
   ],
   "source": [
    "main_df = accident_df[[\"ACCIDENT_NO\", \"ACCIDENTDATE\"]]\n",
    "print(len(main_df))\n",
    "main_df.head()"
   ]
  },
  {
   "cell_type": "markdown",
   "metadata": {},
   "source": [
    "### Extract 5 years of interested data "
   ]
  },
  {
   "cell_type": "code",
   "execution_count": 6,
   "metadata": {},
   "outputs": [
    {
     "name": "stdout",
     "output_type": "stream",
     "text": [
      "62266\n"
     ]
    },
    {
     "data": {
      "text/html": [
       "<div>\n",
       "<style scoped>\n",
       "    .dataframe tbody tr th:only-of-type {\n",
       "        vertical-align: middle;\n",
       "    }\n",
       "\n",
       "    .dataframe tbody tr th {\n",
       "        vertical-align: top;\n",
       "    }\n",
       "\n",
       "    .dataframe thead th {\n",
       "        text-align: right;\n",
       "    }\n",
       "</style>\n",
       "<table border=\"1\" class=\"dataframe\">\n",
       "  <thead>\n",
       "    <tr style=\"text-align: right;\">\n",
       "      <th></th>\n",
       "      <th>ACCIDENT_NO</th>\n",
       "      <th>ACCIDENTDATE</th>\n",
       "    </tr>\n",
       "  </thead>\n",
       "  <tbody>\n",
       "    <tr>\n",
       "      <th>0</th>\n",
       "      <td>T20160000013</td>\n",
       "      <td>2016-01-01</td>\n",
       "    </tr>\n",
       "    <tr>\n",
       "      <th>1</th>\n",
       "      <td>T20160000015</td>\n",
       "      <td>2016-01-01</td>\n",
       "    </tr>\n",
       "    <tr>\n",
       "      <th>2</th>\n",
       "      <td>T20160000019</td>\n",
       "      <td>2016-01-01</td>\n",
       "    </tr>\n",
       "  </tbody>\n",
       "</table>\n",
       "</div>"
      ],
      "text/plain": [
       "    ACCIDENT_NO ACCIDENTDATE\n",
       "0  T20160000013   2016-01-01\n",
       "1  T20160000015   2016-01-01\n",
       "2  T20160000019   2016-01-01"
      ]
     },
     "execution_count": 6,
     "metadata": {},
     "output_type": "execute_result"
    }
   ],
   "source": [
    "# Drop accident rows that happened before 1-1-2016\n",
    "start_date = '2016-01-01'\n",
    "main_df = main_df[main_df['ACCIDENTDATE'] >= start_date]\n",
    "main_df.reset_index(drop=True, inplace = True)\n",
    "print(len(main_df))\n",
    "main_df.head(3)"
   ]
  },
  {
   "cell_type": "markdown",
   "metadata": {},
   "source": [
    "### Export dataframe to csv file"
   ]
  },
  {
   "cell_type": "code",
   "execution_count": 7,
   "metadata": {},
   "outputs": [
    {
     "name": "stdout",
     "output_type": "stream",
     "text": [
      "*** File created in: project_data/proj_accident_main.csv ****\n"
     ]
    }
   ],
   "source": [
    "file_name = 'proj_accident_main.csv'\n",
    "filepath = f\"project_data/{file_name}\"  \n",
    "main_df.to_csv(filepath)\n",
    "print(f\"*** File created in: {filepath} ****\" )"
   ]
  },
  {
   "cell_type": "markdown",
   "metadata": {},
   "source": [
    "# Accident Event Dataframe\n",
    "    - Filtering Dataset so it only has the last 5 years of accidents (same accidents id's in the Main Dataframe)"
   ]
  },
  {
   "cell_type": "code",
   "execution_count": null,
   "metadata": {},
   "outputs": [],
   "source": [
    "# dataframe to only have rows where the dataframe's accident_no value is in the main_df, done with the .isin method()\n",
    "accident_df = accident_df[accident_df[\"ACCIDENT_NO\"].isin(main_df[\"ACCIDENT_NO\"])]\n",
    "accident_event_df = accident_event_df[accident_event_df[\"ACCIDENT_NO\"].isin(main_df[\"ACCIDENT_NO\"])]\n",
    "accident_location_df = accident_location_df[accident_location_df[\"ACCIDENT_NO\"].isin(main_df[\"ACCIDENT_NO\"])]\n",
    "atmospheric_cond_df = atmospheric_cond_df[atmospheric_cond_df[\"ACCIDENT_NO\"].isin(main_df[\"ACCIDENT_NO\"])]\n",
    "node_df = node_df[node_df[\"ACCIDENT_NO\"].isin(main_df[\"ACCIDENT_NO\"])]\n",
    "person_df = person_df[person_df[\"ACCIDENT_NO\"].isin(main_df[\"ACCIDENT_NO\"])]\n",
    "road_surface_cond_df = road_surface_cond_df[road_surface_cond_df[\"ACCIDENT_NO\"].isin(main_df[\"ACCIDENT_NO\"])]\n",
    "subdca_path_df = subdca_path_df[subdca_path_df[\"ACCIDENT_NO\"].isin(main_df[\"ACCIDENT_NO\"])]\n",
    "vehicle_path_df = vehicle_path_df[vehicle_path_df[\"ACCIDENT_NO\"].isin(main_df[\"ACCIDENT_NO\"])]\n",
    "\n",
    "#nua = Number of Unique values. getting the number of unique accident_no's in every dataframe. The main DF has 62266 unique values so we expect the other dataframes to have equal or less\n",
    "nua_accident_df = accident_df[\"ACCIDENT_NO\"].nunique()\n",
    "nua_accident_event_df = accident_event_df[\"ACCIDENT_NO\"].nunique()\n",
    "nua_accident_location_df = accident_location_df[\"ACCIDENT_NO\"].nunique()\n",
    "nua_atmospheric_cond_df = atmospheric_cond_df[\"ACCIDENT_NO\"].nunique()\n",
    "nua_node_df = node_df[\"ACCIDENT_NO\"].nunique()\n",
    "nua_person_df = person_df[\"ACCIDENT_NO\"].nunique()\n",
    "nua_road_surface_cond_df = road_surface_cond_df[\"ACCIDENT_NO\"].nunique()\n",
    "nua_subdca_path_df = subdca_path_df[\"ACCIDENT_NO\"].nunique()\n",
    "nua_vehicle_path_df = vehicle_path_df[\"ACCIDENT_NO\"].nunique()\n",
    "\n",
    "print(f\"Length of accident_df Dataframe: {len(accident_df)} | Number of Unique ACCIDENT_NO values: {nua_accident_df}\")\n",
    "print(f\"Length of accident_event_df Dataframe: {len(accident_event_df)} | Number of Unique ACCIDENT_NO values: {nua_accident_event_df}\")\n",
    "print(f\"Length of accident_location_df Dataframe: {len(accident_location_df)} | Number of Unique ACCIDENT_NO values: {nua_accident_location_df}\")\n",
    "print(f\"Length of atmospheric_cond_df Dataframe: {len(atmospheric_cond_df)} | Number of Unique ACCIDENT_NO values: {nua_atmospheric_cond_df}\")\n",
    "print(f\"Length of node_df Dataframe: {len(node_df)} | Number of Unique ACCIDENT_NO values: {nua_node_df}\")\n",
    "print(f\"Length of person_df Dataframe: {len(person_df)} | Number of Unique ACCIDENT_NO values: {nua_person_df}\")\n",
    "print(f\"Length of road_surface_cond_df Dataframe: {len(road_surface_cond_df)} | Number of Unique ACCIDENT_NO values: {nua_road_surface_cond_df}\")\n",
    "print(f\"Length of subdca_path_df Dataframe: {len(subdca_path_df)} | Number of Unique ACCIDENT_NO values: {nua_subdca_path_df}\")\n",
    "print(f\"Length of vehicle_path_df Dataframe: {len(vehicle_path_df)} | Number of Unique ACCIDENT_NO values: {nua_vehicle_path_df}\")\n",
    "\n"
   ]
  },
  {
   "cell_type": "code",
   "execution_count": 10,
   "metadata": {},
   "outputs": [],
   "source": [
    "\n",
    "\n",
    "accident_df.to_csv(\"project_data/accident_df.csv\")\n",
    "accident_event_df.to_csv(\"project_data/accident_event_df.csv\")\n",
    "accident_location_df.to_csv(\"project_data/accident_location_df.csv\")\n",
    "atmospheric_cond_df.to_csv(\"project_data/atmospheric_cond_df.csv\")\n",
    "node_df.to_csv(\"project_data/node_df.csv\")\n",
    "person_df.to_csv(\"project_data/person_df.csv\")\n",
    "road_surface_cond_df.to_csv(\"project_data/road_surface_cond_df.csv\")\n",
    "subdca_path_df.to_csv(\"project_data/subdca_path_df.csv\")\n",
    "vehicle_path_df.to_csv(\"project_data/vehicle_path_df.csv\")\n",
    "\n",
    "\n"
   ]
  }
 ],
 "metadata": {
  "kernelspec": {
   "display_name": "Python 3.7.13 ('bootcamp')",
   "language": "python",
   "name": "python3"
  },
  "language_info": {
   "codemirror_mode": {
    "name": "ipython",
    "version": 3
   },
   "file_extension": ".py",
   "mimetype": "text/x-python",
   "name": "python",
   "nbconvert_exporter": "python",
   "pygments_lexer": "ipython3",
   "version": "3.7.13"
  },
  "vscode": {
   "interpreter": {
    "hash": "d3c3aa688ac86767ca0cc64da043c6600fa26f66b77c36d09bb4bee152a721f9"
   }
  }
 },
 "nbformat": 4,
 "nbformat_minor": 2
}
