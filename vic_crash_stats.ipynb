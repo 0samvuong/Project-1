{
 "cells": [
  {
   "cell_type": "markdown",
   "metadata": {},
   "source": [
    "### Import Dependencies"
   ]
  },
  {
   "cell_type": "code",
   "execution_count": 1,
   "metadata": {},
   "outputs": [],
   "source": [
    "import numpy as np\n",
    "import pandas as pd\n",
    "import matplotlib.pyplot as plt\n",
    "from datetime import datetime\n",
    "import csv"
   ]
  },
  {
   "cell_type": "markdown",
   "metadata": {},
   "source": [
    "### Retrieve CSV data files"
   ]
  },
  {
   "cell_type": "code",
   "execution_count": 2,
   "metadata": {},
   "outputs": [],
   "source": [
    "#CSV file paths\n",
    "\n",
    "accident_path = \"data/ACCIDENT.csv\"\n",
    "accident_chainage_path = \"data/ACCIDENT_CHAINAGE.csv\"\n",
    "accident_event_path = \"data/ACCIDENT_EVENT.csv\"\n",
    "accident_location_path = \"data/ACCIDENT_LOCATION.csv\"\n",
    "atmospheric_cond_path = \"data/ATMOSPHERIC_COND.csv\"\n",
    "node_path = \"data/NODE.csv\"\n",
    "person_path = \"data/PERSON.csv\"\n",
    "road_surface_cond_path = \"data/ROAD_SURFACE_COND.csv\"\n",
    "subdca_path = \"data/SUBDCA.csv\"\n",
    "vehicle_path = \"data/VEHICLE.csv\"\n",
    "\n",
    "# reading the CSV files\n",
    "\n",
    "# ACCIDENT_NO, date, time, speed zone, sex, age\n",
    "\n",
    "# reading the CSV files, increase memory capacity\n",
    "accident_df = pd.read_csv(accident_path, \n",
    "                          parse_dates=[\"ACCIDENTDATE\"], infer_datetime_format = True, low_memory = False)\n",
    "# accident_chainage_df = pd.read_csv(accident_chainage_path)\n",
    "# accident_event_df = pd.read_csv(accident_event_path)\n",
    "# accident_location_df = pd.read_csv(accident_location_path)\n",
    "# atmospheric_cond_df = pd.read_csv(atmospheric_cond_path)\n",
    "# node_df = pd.read_csv(node_path)\n",
    "# person_df = pd.read_csv(person_path)\n",
    "# road_surface_cond_df = pd.read_csv(road_surface_cond_path)\n",
    "# subdca_path_df = pd.read_csv(subdca_path)\n",
    "# vehicle_path_df = pd.read_csv(vehicle_path)"
   ]
  },
  {
   "cell_type": "markdown",
   "metadata": {},
   "source": [
    "### Create accident master frame for later functional reference"
   ]
  },
  {
   "cell_type": "code",
   "execution_count": 3,
   "metadata": {},
   "outputs": [
    {
     "name": "stdout",
     "output_type": "stream",
     "text": [
      "203708\n"
     ]
    },
    {
     "data": {
      "text/html": [
       "<div>\n",
       "<style scoped>\n",
       "    .dataframe tbody tr th:only-of-type {\n",
       "        vertical-align: middle;\n",
       "    }\n",
       "\n",
       "    .dataframe tbody tr th {\n",
       "        vertical-align: top;\n",
       "    }\n",
       "\n",
       "    .dataframe thead th {\n",
       "        text-align: right;\n",
       "    }\n",
       "</style>\n",
       "<table border=\"1\" class=\"dataframe\">\n",
       "  <thead>\n",
       "    <tr style=\"text-align: right;\">\n",
       "      <th></th>\n",
       "      <th>ACCIDENT_NO</th>\n",
       "      <th>ACCIDENTDATE</th>\n",
       "      <th>ACCIDENTTIME</th>\n",
       "      <th>DAY_OF_WEEK</th>\n",
       "      <th>SPEED_ZONE</th>\n",
       "    </tr>\n",
       "  </thead>\n",
       "  <tbody>\n",
       "    <tr>\n",
       "      <th>0</th>\n",
       "      <td>T20060000010</td>\n",
       "      <td>2006-01-13</td>\n",
       "      <td>12:42:00</td>\n",
       "      <td>6</td>\n",
       "      <td>60</td>\n",
       "    </tr>\n",
       "    <tr>\n",
       "      <th>1</th>\n",
       "      <td>T20060000018</td>\n",
       "      <td>2006-01-13</td>\n",
       "      <td>19:10:00</td>\n",
       "      <td>6</td>\n",
       "      <td>70</td>\n",
       "    </tr>\n",
       "    <tr>\n",
       "      <th>2</th>\n",
       "      <td>T20060000022</td>\n",
       "      <td>2006-01-14</td>\n",
       "      <td>12:10:00</td>\n",
       "      <td>7</td>\n",
       "      <td>100</td>\n",
       "    </tr>\n",
       "    <tr>\n",
       "      <th>3</th>\n",
       "      <td>T20060000023</td>\n",
       "      <td>2006-01-14</td>\n",
       "      <td>11:49:00</td>\n",
       "      <td>7</td>\n",
       "      <td>80</td>\n",
       "    </tr>\n",
       "    <tr>\n",
       "      <th>4</th>\n",
       "      <td>T20060000026</td>\n",
       "      <td>2006-01-14</td>\n",
       "      <td>10:45:00</td>\n",
       "      <td>7</td>\n",
       "      <td>50</td>\n",
       "    </tr>\n",
       "  </tbody>\n",
       "</table>\n",
       "</div>"
      ],
      "text/plain": [
       "    ACCIDENT_NO ACCIDENTDATE                    ACCIDENTTIME  DAY_OF_WEEK  \\\n",
       "0  T20060000010   2006-01-13  12:42:00                                  6   \n",
       "1  T20060000018   2006-01-13  19:10:00                                  6   \n",
       "2  T20060000022   2006-01-14  12:10:00                                  7   \n",
       "3  T20060000023   2006-01-14  11:49:00                                  7   \n",
       "4  T20060000026   2006-01-14  10:45:00                                  7   \n",
       "\n",
       "   SPEED_ZONE  \n",
       "0          60  \n",
       "1          70  \n",
       "2         100  \n",
       "3          80  \n",
       "4          50  "
      ]
     },
     "execution_count": 3,
     "metadata": {},
     "output_type": "execute_result"
    }
   ],
   "source": [
    "main_df = accident_df[[\"ACCIDENT_NO\", \"ACCIDENTDATE\", \"ACCIDENTTIME\",\"DAY_OF_WEEK\",\"SPEED_ZONE\"]]\n",
    "print(len(main_df))\n",
    "main_df.head()"
   ]
  },
  {
   "cell_type": "markdown",
   "metadata": {},
   "source": [
    "### Extract 5 years of interested data "
   ]
  },
  {
   "cell_type": "code",
   "execution_count": 4,
   "metadata": {},
   "outputs": [
    {
     "data": {
      "text/html": [
       "<div>\n",
       "<style scoped>\n",
       "    .dataframe tbody tr th:only-of-type {\n",
       "        vertical-align: middle;\n",
       "    }\n",
       "\n",
       "    .dataframe tbody tr th {\n",
       "        vertical-align: top;\n",
       "    }\n",
       "\n",
       "    .dataframe thead th {\n",
       "        text-align: right;\n",
       "    }\n",
       "</style>\n",
       "<table border=\"1\" class=\"dataframe\">\n",
       "  <thead>\n",
       "    <tr style=\"text-align: right;\">\n",
       "      <th></th>\n",
       "      <th>ACCIDENT_NO</th>\n",
       "      <th>ACCIDENTDATE</th>\n",
       "      <th>ACCIDENTTIME</th>\n",
       "      <th>DAY_OF_WEEK</th>\n",
       "      <th>SPEED_ZONE</th>\n",
       "    </tr>\n",
       "  </thead>\n",
       "  <tbody>\n",
       "    <tr>\n",
       "      <th>0</th>\n",
       "      <td>T20160000013</td>\n",
       "      <td>2016-01-01</td>\n",
       "      <td>00:07:00</td>\n",
       "      <td>6</td>\n",
       "      <td>60</td>\n",
       "    </tr>\n",
       "    <tr>\n",
       "      <th>1</th>\n",
       "      <td>T20160000015</td>\n",
       "      <td>2016-01-01</td>\n",
       "      <td>02:35:00</td>\n",
       "      <td>6</td>\n",
       "      <td>80</td>\n",
       "    </tr>\n",
       "    <tr>\n",
       "      <th>2</th>\n",
       "      <td>T20160000019</td>\n",
       "      <td>2016-01-01</td>\n",
       "      <td>06:30:00</td>\n",
       "      <td>6</td>\n",
       "      <td>50</td>\n",
       "    </tr>\n",
       "    <tr>\n",
       "      <th>3</th>\n",
       "      <td>T20160000028</td>\n",
       "      <td>2016-01-01</td>\n",
       "      <td>11:35:00</td>\n",
       "      <td>6</td>\n",
       "      <td>60</td>\n",
       "    </tr>\n",
       "    <tr>\n",
       "      <th>4</th>\n",
       "      <td>T20160000031</td>\n",
       "      <td>2016-01-01</td>\n",
       "      <td>13:30:00</td>\n",
       "      <td>6</td>\n",
       "      <td>50</td>\n",
       "    </tr>\n",
       "    <tr>\n",
       "      <th>...</th>\n",
       "      <td>...</td>\n",
       "      <td>...</td>\n",
       "      <td>...</td>\n",
       "      <td>...</td>\n",
       "      <td>...</td>\n",
       "    </tr>\n",
       "    <tr>\n",
       "      <th>62261</th>\n",
       "      <td>T20200019239</td>\n",
       "      <td>2020-11-01</td>\n",
       "      <td>12:11:00</td>\n",
       "      <td>0</td>\n",
       "      <td>50</td>\n",
       "    </tr>\n",
       "    <tr>\n",
       "      <th>62262</th>\n",
       "      <td>T20200019247</td>\n",
       "      <td>2020-11-01</td>\n",
       "      <td>15:30:00</td>\n",
       "      <td>1</td>\n",
       "      <td>999</td>\n",
       "    </tr>\n",
       "    <tr>\n",
       "      <th>62263</th>\n",
       "      <td>T20200019250</td>\n",
       "      <td>2020-11-01</td>\n",
       "      <td>18:00:00</td>\n",
       "      <td>0</td>\n",
       "      <td>60</td>\n",
       "    </tr>\n",
       "    <tr>\n",
       "      <th>62264</th>\n",
       "      <td>T20200019253</td>\n",
       "      <td>2020-11-01</td>\n",
       "      <td>12:00:00</td>\n",
       "      <td>1</td>\n",
       "      <td>80</td>\n",
       "    </tr>\n",
       "    <tr>\n",
       "      <th>62265</th>\n",
       "      <td>T20200019417</td>\n",
       "      <td>2020-11-04</td>\n",
       "      <td>01:30:00</td>\n",
       "      <td>3</td>\n",
       "      <td>80</td>\n",
       "    </tr>\n",
       "  </tbody>\n",
       "</table>\n",
       "<p>62266 rows × 5 columns</p>\n",
       "</div>"
      ],
      "text/plain": [
       "        ACCIDENT_NO ACCIDENTDATE                    ACCIDENTTIME  DAY_OF_WEEK  \\\n",
       "0      T20160000013   2016-01-01  00:07:00                                  6   \n",
       "1      T20160000015   2016-01-01  02:35:00                                  6   \n",
       "2      T20160000019   2016-01-01  06:30:00                                  6   \n",
       "3      T20160000028   2016-01-01  11:35:00                                  6   \n",
       "4      T20160000031   2016-01-01  13:30:00                                  6   \n",
       "...             ...          ...                             ...          ...   \n",
       "62261  T20200019239   2020-11-01  12:11:00                                  0   \n",
       "62262  T20200019247   2020-11-01  15:30:00                                  1   \n",
       "62263  T20200019250   2020-11-01  18:00:00                                  0   \n",
       "62264  T20200019253   2020-11-01  12:00:00                                  1   \n",
       "62265  T20200019417   2020-11-04  01:30:00                                  3   \n",
       "\n",
       "       SPEED_ZONE  \n",
       "0              60  \n",
       "1              80  \n",
       "2              50  \n",
       "3              60  \n",
       "4              50  \n",
       "...           ...  \n",
       "62261          50  \n",
       "62262         999  \n",
       "62263          60  \n",
       "62264          80  \n",
       "62265          80  \n",
       "\n",
       "[62266 rows x 5 columns]"
      ]
     },
     "execution_count": 4,
     "metadata": {},
     "output_type": "execute_result"
    }
   ],
   "source": [
    "# Drop accident rows that happened before 1-1-2016\n",
    "start_date = '2016-01-01'\n",
    "filter_main_df = main_df[main_df['ACCIDENTDATE'] >= start_date]\n",
    "filter_main_df.reset_index(drop=True, inplace = True)\n",
    "filter_main_df"
   ]
  },
  {
   "cell_type": "markdown",
   "metadata": {},
   "source": [
    "### Export dataframe to csv file"
   ]
  },
  {
   "cell_type": "code",
   "execution_count": 5,
   "metadata": {},
   "outputs": [
    {
     "name": "stdout",
     "output_type": "stream",
     "text": [
      "*** File created in: data/proj_accident_main.csv ********************************************\n"
     ]
    }
   ],
   "source": [
    "file_name = 'proj_accident_main.csv'\n",
    "filepath = f\"data/{file_name}\"  \n",
    "filter_main_df.to_csv(filepath)\n",
    "print(f\"*** File created in: {filepath} ********************************************\" )"
   ]
  },
  {
   "cell_type": "code",
   "execution_count": null,
   "metadata": {},
   "outputs": [],
   "source": []
  }
 ],
 "metadata": {
  "kernelspec": {
   "display_name": "Python 3.7.13 ('bootcamp')",
   "language": "python",
   "name": "python3"
  },
  "language_info": {
   "codemirror_mode": {
    "name": "ipython",
    "version": 3
   },
   "file_extension": ".py",
   "mimetype": "text/x-python",
   "name": "python",
   "nbconvert_exporter": "python",
   "pygments_lexer": "ipython3",
   "version": "3.7.13"
  },
  "vscode": {
   "interpreter": {
    "hash": "048ab9dd6cc338f9ed387f57c1ac5591c4dc3f11e42bccfd8eeed32f389c85f1"
   }
  }
 },
 "nbformat": 4,
 "nbformat_minor": 2
}
